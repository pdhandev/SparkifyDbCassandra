{
 "cells": [
  {
   "cell_type": "markdown",
   "metadata": {},
   "source": [
    "# SparkifyDb   \n",
    "\n",
    "#### Purpose\n",
    "The ETL project is designed and implemented to help my company Sparkify to perform analysis on users' song play activity using our new music app event data.\n",
    "\n",
    "#### Database schema design and ETL pipeline\n",
    "Database design follows the STAR schema for tables. It has a Fact table : songplays and four Dimension tables: songs, artists, time and users.\n",
    "\n",
    "**What** the user was listening to (songs)\n",
    "**Which** artist was user listening to (artists)\n",
    "**When** the user was listening to the songs (time)\n",
    "**Who** was listening the songs (users)\n",
    "\n",
    "**How** and Where the user was listening to the songs (songplays)\n",
    "\n",
    "\n",
    "The data is ingested from source folders _event_data_ in form of csv files using pandas library in Python. Data is further filtered, cleaned and recorde using Cassandra CQL and Python (psycopg2) statements and commands. The tables are created to answer below questions.\n",
    "\n",
    "#### Example of some analysis query:\n",
    "\n",
    " 1. Give me the artist, song title and song's length in the music app history that was heard during  sessionId = 338, and itemInSession  = 4\n",
    " 2. Give me only the following: name of artist, song (sorted by itemInSession) and user (first and last name) for userid = 10, sessionid = 182\n",
    " 3. Give me every user name (first and last) in my music app history who listened to the song 'All Hands Against His Own'\n",
    "\n",
    "#### How to use the product?\n",
    "1. Run etl.ipynb from terminal to drop existing Sparkify database/tables and create new database/tables.\n",
    "```sh\n",
    "root@0cc7f703976a:/home/workspace# python create_tables.py\n",
    "```\n",
    "2. Run etl.py from terminal to read in json files from song_data and log_data and insert records in the tables.\n",
    "```sh\n",
    "root@0cc7f703976a:/home/workspace# python etl.py\n",
    "```\n",
    "3. Use test.ipynb provided to add and run analytical queries.   \n",
    "\n",
    "\n",
    "### REMEMBER: Make sure to `close` connection to sparkifydb\n",
    "Remember to close the connection to sparkify database after use since multiple connections to the same database are not allowed."
   ]
  },
  {
   "cell_type": "code",
   "execution_count": null,
   "metadata": {},
   "outputs": [],
   "source": []
  }
 ],
 "metadata": {
  "kernelspec": {
   "display_name": "Python 3",
   "language": "python",
   "name": "python3"
  },
  "language_info": {
   "codemirror_mode": {
    "name": "ipython",
    "version": 3
   },
   "file_extension": ".py",
   "mimetype": "text/x-python",
   "name": "python",
   "nbconvert_exporter": "python",
   "pygments_lexer": "ipython3",
   "version": "3.6.9"
  }
 },
 "nbformat": 4,
 "nbformat_minor": 4
}
