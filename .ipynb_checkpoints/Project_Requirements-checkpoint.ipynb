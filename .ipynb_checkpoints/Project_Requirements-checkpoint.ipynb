{
 "cells": [
  {
   "cell_type": "markdown",
   "metadata": {},
   "source": [
    "\n",
    "# Introduction\n",
    "\n",
    "### Project: Data Modeling with Cassandra\n",
    "A startup called Sparkify wants to analyze the data they've been collecting on songs and user activity on their new music streaming app. The analysis team is particularly interested in understanding what songs users are listening to. Currently, there is no easy way to query the data to generate the results, since the data reside in a directory of CSV files on user activity on the app.\n",
    "\n",
    "They'd like a data engineer to create an Apache Cassandra database which can create queries on song play data to answer the questions, and wish to bring you on the project. Your role is to create a database for this analysis. You'll be able to test your database by running queries given to you by the analytics team from Sparkify to create the results.\n",
    "\n",
    "### Project Overview\n",
    "In this project, you'll apply what you've learned on data modeling with Apache Cassandra and complete an ETL pipeline using Python. To complete the project, you will need to model your data by creating tables in Apache Cassandra to run queries. You are provided with part of the ETL pipeline that transfers data from a set of CSV files within a directory to create a streamlined CSV file to model and insert data into Apache Cassandra tables.\n",
    "\n",
    "We have provided you with a project template that takes care of all the imports and provides a structure for ETL pipeline you'd need to process this data."
   ]
  },
  {
   "cell_type": "markdown",
   "metadata": {},
   "source": [
    "\n",
    "\n",
    "\n",
    "\n",
    "# Project Datasets\n",
    "\n",
    "For this project, you'll be working with one dataset: event_data. The directory of CSV files partitioned by date. Here are examples of filepaths to two files in the dataset:\n",
    "```sh\n",
    "event_data/2018-11-08-events.csv\n",
    "event_data/2018-11-09-events.csv\n",
    "```"
   ]
  },
  {
   "cell_type": "markdown",
   "metadata": {},
   "source": [
    "# Project Instructions\n",
    "\n",
    "\n",
    "### Project Template\n",
    "To get started with the project, go to the workspace on the next page, where you'll find the project template (a Jupyter notebook file). You can work on your project and submit your work through this workspace.\n",
    "\n",
    "The project template includes one Jupyter Notebook file, in which:\n",
    "\n",
    " * you will process the ```event_datafile_new.csv``` dataset to create a denormalized dataset\n",
    " * you will model the data tables keeping in mind the queries you need to run\n",
    " * you have been provided queries that you will need to model your data tables for\n",
    " * you will load the data into tables you create in Apache Cassandra and run your queries\n",
    "\n",
    "### Project Steps\n",
    "Below are steps you can follow to complete each component of this project.\n",
    "\n",
    "#### Modeling your NoSQL database or Apache Cassandra database\n",
    " 1. Design tables to answer the queries outlined in the project template\n",
    " 2. Write Apache Cassandra ```CREATE KEYSPACE``` and ```SET KEYSPACE``` statements\n",
    " 3. Develop your ```CREATE``` statement for each of the tables to address each question\n",
    "Load the data with ```INSERT``` statement for each of the tables\n",
    "Include ```IF NOT EXISTS``` clauses in your ```CREATE``` statements to create tables only if the tables do not already exist. We recommend you also include ```DROP TABLE``` statement for each table, this way you can run drop and create tables whenever you want to reset your database and test your ETL pipeline\n",
    "Test by running the proper select statements with the correct ```WHERE``` clause\n",
    "\n",
    "#### Build ETL Pipeline\n",
    " 1. Implement the logic in section Part I of the notebook template to iterate through each even file in ```event_data``` to process and create a new CSV file in Python\n",
    " 2. Make necessary edits to Part II of the notebook template to include Apache Cassandra ```CREATE``` and ```INSERT``` statements to load processed records into relevant tables in your data model\n",
    " 3. Test by running ```SELECT``` statements after running the queries on your database\n",
    "\n",
    "### Project Rubric\n",
    "Read the project [rubric](https://review.udacity.com/#!/rubrics/2475/view) before and during development of your project to ensure you meet all specifications."
   ]
  }
 ],
 "metadata": {
  "kernelspec": {
   "display_name": "Python 3",
   "language": "python",
   "name": "python3"
  },
  "language_info": {
   "codemirror_mode": {
    "name": "ipython",
    "version": 3
   },
   "file_extension": ".py",
   "mimetype": "text/x-python",
   "name": "python",
   "nbconvert_exporter": "python",
   "pygments_lexer": "ipython3",
   "version": "3.6.9"
  }
 },
 "nbformat": 4,
 "nbformat_minor": 2
}
